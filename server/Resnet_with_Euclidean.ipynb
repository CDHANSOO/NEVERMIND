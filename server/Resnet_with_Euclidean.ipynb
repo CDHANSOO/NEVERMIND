{
 "cells": [
  {
   "cell_type": "code",
   "execution_count": 2,
   "id": "2a5a5913",
   "metadata": {
    "ExecuteTime": {
     "end_time": "2023-11-14T01:18:30.945593Z",
     "start_time": "2023-11-14T01:18:26.569048Z"
    }
   },
   "outputs": [
    {
     "name": "stdout",
     "output_type": "stream",
     "text": [
      "Requirement already satisfied: keras in /opt/homebrew/lib/python3.11/site-packages (2.15.0)\n",
      "\n",
      "\u001b[1m[\u001b[0m\u001b[34;49mnotice\u001b[0m\u001b[1;39;49m]\u001b[0m\u001b[39;49m A new release of pip is available: \u001b[0m\u001b[31;49m23.2.1\u001b[0m\u001b[39;49m -> \u001b[0m\u001b[32;49m23.3.1\u001b[0m\n",
      "\u001b[1m[\u001b[0m\u001b[34;49mnotice\u001b[0m\u001b[1;39;49m]\u001b[0m\u001b[39;49m To update, run: \u001b[0m\u001b[32;49mpython3.11 -m pip install --upgrade pip\u001b[0m\n"
     ]
    }
   ],
   "source": [
    "!pip3 install keras tensorflow seaborn scikit-learn plotly scipy numpy"
   ]
  },
  {
   "cell_type": "code",
   "execution_count": 25,
   "id": "a7668b24",
   "metadata": {
    "ExecuteTime": {
     "end_time": "2023-11-14T01:18:57.829580Z",
     "start_time": "2023-11-14T01:18:52.191371Z"
    },
    "scrolled": true
   },
   "outputs": [
    {
     "data": {
      "text/html": [
       "<div>\n",
       "<style scoped>\n",
       "    .dataframe tbody tr th:only-of-type {\n",
       "        vertical-align: middle;\n",
       "    }\n",
       "\n",
       "    .dataframe tbody tr th {\n",
       "        vertical-align: top;\n",
       "    }\n",
       "\n",
       "    .dataframe thead th {\n",
       "        text-align: right;\n",
       "    }\n",
       "</style>\n",
       "<table border=\"1\" class=\"dataframe\">\n",
       "  <thead>\n",
       "    <tr style=\"text-align: right;\">\n",
       "      <th></th>\n",
       "      <th>Unnamed: 0</th>\n",
       "      <th>key</th>\n",
       "      <th>매칭이미지주소</th>\n",
       "      <th>브랜드이름</th>\n",
       "      <th>제품명</th>\n",
       "      <th>가격</th>\n",
       "      <th>성별</th>\n",
       "      <th>카테고리</th>\n",
       "    </tr>\n",
       "  </thead>\n",
       "  <tbody>\n",
       "    <tr>\n",
       "      <th>0</th>\n",
       "      <td>0</td>\n",
       "      <td>3627500</td>\n",
       "      <td>//image.msscdn.net/images/goods_img/20231013/3...</td>\n",
       "      <td>스키즘 인듀싱</td>\n",
       "      <td>OVERSIZED CAR COAT</td>\n",
       "      <td>304,200원</td>\n",
       "      <td>MAN</td>\n",
       "      <td>비즈니스캐주얼</td>\n",
       "    </tr>\n",
       "    <tr>\n",
       "      <th>1</th>\n",
       "      <td>1</td>\n",
       "      <td>3438649</td>\n",
       "      <td>//image.msscdn.net/images/goods_img/20230801/3...</td>\n",
       "      <td>넌블랭크</td>\n",
       "      <td>캐시미어 블렌드 루즈 핏 하프 집업 칼라 니트_CHARCOAL</td>\n",
       "      <td>119,900원</td>\n",
       "      <td>MAN</td>\n",
       "      <td>비즈니스캐주얼</td>\n",
       "    </tr>\n",
       "    <tr>\n",
       "      <th>2</th>\n",
       "      <td>2</td>\n",
       "      <td>3511511</td>\n",
       "      <td>//image.msscdn.net/images/goods_img/20230829/3...</td>\n",
       "      <td>어반드레스</td>\n",
       "      <td>Pintuck Jar pants GREY</td>\n",
       "      <td>32,300원</td>\n",
       "      <td>MAN</td>\n",
       "      <td>비즈니스캐주얼</td>\n",
       "    </tr>\n",
       "    <tr>\n",
       "      <th>3</th>\n",
       "      <td>3</td>\n",
       "      <td>3418135</td>\n",
       "      <td>//image.msscdn.net/images/goods_img/20230720/3...</td>\n",
       "      <td>마즈</td>\n",
       "      <td>실버 플랫 베이직 반지 4mm</td>\n",
       "      <td>34,000원</td>\n",
       "      <td>MAN</td>\n",
       "      <td>비즈니스캐주얼</td>\n",
       "    </tr>\n",
       "    <tr>\n",
       "      <th>4</th>\n",
       "      <td>4</td>\n",
       "      <td>2991371</td>\n",
       "      <td>//image.msscdn.net/images/goods_img/20221220/2...</td>\n",
       "      <td>마즈</td>\n",
       "      <td>써지컬 라인 텍스쳐 반지</td>\n",
       "      <td>26,000원</td>\n",
       "      <td>MAN</td>\n",
       "      <td>비즈니스캐주얼</td>\n",
       "    </tr>\n",
       "    <tr>\n",
       "      <th>...</th>\n",
       "      <td>...</td>\n",
       "      <td>...</td>\n",
       "      <td>...</td>\n",
       "      <td>...</td>\n",
       "      <td>...</td>\n",
       "      <td>...</td>\n",
       "      <td>...</td>\n",
       "      <td>...</td>\n",
       "    </tr>\n",
       "    <tr>\n",
       "      <th>13875</th>\n",
       "      <td>3378</td>\n",
       "      <td>2871705</td>\n",
       "      <td>//image.msscdn.net/images/goods_img/20221018/2...</td>\n",
       "      <td>브이투</td>\n",
       "      <td>70101 비건레더 무스탕_블랙</td>\n",
       "      <td>126,650원</td>\n",
       "      <td>MAN</td>\n",
       "      <td>댄디</td>\n",
       "    </tr>\n",
       "    <tr>\n",
       "      <th>13876</th>\n",
       "      <td>3381</td>\n",
       "      <td>2815340</td>\n",
       "      <td>//image.msscdn.net/images/goods_img/20220923/2...</td>\n",
       "      <td>무신사 스탠다드</td>\n",
       "      <td>아란 케이블 크루 넥 니트 [미디엄 그레이]</td>\n",
       "      <td>71,890원</td>\n",
       "      <td>MAN</td>\n",
       "      <td>댄디</td>\n",
       "    </tr>\n",
       "    <tr>\n",
       "      <th>13877</th>\n",
       "      <td>3383</td>\n",
       "      <td>2880427</td>\n",
       "      <td>//image.msscdn.net/images/goods_img/20221020/2...</td>\n",
       "      <td>데이</td>\n",
       "      <td>핸드메이드 맥코트_BLACK</td>\n",
       "      <td>199,900원</td>\n",
       "      <td>MAN</td>\n",
       "      <td>댄디</td>\n",
       "    </tr>\n",
       "    <tr>\n",
       "      <th>13878</th>\n",
       "      <td>3385</td>\n",
       "      <td>2671322</td>\n",
       "      <td>//image.msscdn.net/images/goods_img/20220719/2...</td>\n",
       "      <td>모드나인</td>\n",
       "      <td>Way Out - MOD7s</td>\n",
       "      <td>81,750원</td>\n",
       "      <td>MAN</td>\n",
       "      <td>댄디</td>\n",
       "    </tr>\n",
       "    <tr>\n",
       "      <th>13879</th>\n",
       "      <td>3387</td>\n",
       "      <td>2147278</td>\n",
       "      <td>//image.msscdn.net/images/goods_img/20210927/2...</td>\n",
       "      <td>피렌체 아뜨리에</td>\n",
       "      <td>세미 스퀘어쉐입 스탠다드 스웨이드 처커부츠 7200-QS [DARK BROWN]</td>\n",
       "      <td>192,600원</td>\n",
       "      <td>MAN</td>\n",
       "      <td>댄디</td>\n",
       "    </tr>\n",
       "  </tbody>\n",
       "</table>\n",
       "<p>13880 rows × 8 columns</p>\n",
       "</div>"
      ],
      "text/plain": [
       "       Unnamed: 0      key                                            매칭이미지주소  \\\n",
       "0               0  3627500  //image.msscdn.net/images/goods_img/20231013/3...   \n",
       "1               1  3438649  //image.msscdn.net/images/goods_img/20230801/3...   \n",
       "2               2  3511511  //image.msscdn.net/images/goods_img/20230829/3...   \n",
       "3               3  3418135  //image.msscdn.net/images/goods_img/20230720/3...   \n",
       "4               4  2991371  //image.msscdn.net/images/goods_img/20221220/2...   \n",
       "...           ...      ...                                                ...   \n",
       "13875        3378  2871705  //image.msscdn.net/images/goods_img/20221018/2...   \n",
       "13876        3381  2815340  //image.msscdn.net/images/goods_img/20220923/2...   \n",
       "13877        3383  2880427  //image.msscdn.net/images/goods_img/20221020/2...   \n",
       "13878        3385  2671322  //image.msscdn.net/images/goods_img/20220719/2...   \n",
       "13879        3387  2147278  //image.msscdn.net/images/goods_img/20210927/2...   \n",
       "\n",
       "          브랜드이름                                           제품명        가격   성별  \\\n",
       "0       스키즘 인듀싱                            OVERSIZED CAR COAT  304,200원  MAN   \n",
       "1          넌블랭크            캐시미어 블렌드 루즈 핏 하프 집업 칼라 니트_CHARCOAL  119,900원  MAN   \n",
       "2         어반드레스                        Pintuck Jar pants GREY   32,300원  MAN   \n",
       "3            마즈                              실버 플랫 베이직 반지 4mm   34,000원  MAN   \n",
       "4            마즈                                 써지컬 라인 텍스쳐 반지   26,000원  MAN   \n",
       "...         ...                                           ...       ...  ...   \n",
       "13875       브이투                             70101 비건레더 무스탕_블랙  126,650원  MAN   \n",
       "13876  무신사 스탠다드                      아란 케이블 크루 넥 니트 [미디엄 그레이]   71,890원  MAN   \n",
       "13877        데이                               핸드메이드 맥코트_BLACK  199,900원  MAN   \n",
       "13878      모드나인                               Way Out - MOD7s   81,750원  MAN   \n",
       "13879  피렌체 아뜨리에  세미 스퀘어쉐입 스탠다드 스웨이드 처커부츠 7200-QS [DARK BROWN]  192,600원  MAN   \n",
       "\n",
       "          카테고리  \n",
       "0      비즈니스캐주얼  \n",
       "1      비즈니스캐주얼  \n",
       "2      비즈니스캐주얼  \n",
       "3      비즈니스캐주얼  \n",
       "4      비즈니스캐주얼  \n",
       "...        ...  \n",
       "13875       댄디  \n",
       "13876       댄디  \n",
       "13877       댄디  \n",
       "13878       댄디  \n",
       "13879       댄디  \n",
       "\n",
       "[13880 rows x 8 columns]"
      ]
     },
     "execution_count": 25,
     "metadata": {},
     "output_type": "execute_result"
    }
   ],
   "source": [
    "import numpy as np\n",
    "import pandas as pd\n",
    "import matplotlib.pyplot as plt\n",
    "import seaborn as sns\n",
    "import scipy\n",
    "import os\n",
    "\n",
    "from keras.preprocessing.image import ImageDataGenerator\n",
    "from keras.models import Sequential\n",
    "from keras.layers import Dropout, Flatten, Dense\n",
    "from keras import applications\n",
    "from sklearn.metrics import pairwise_distances\n",
    "import requests\n",
    "from PIL import Image\n",
    "import pickle\n",
    "from datetime import datetime\n",
    "from PIL import ImageFile\n",
    "ImageFile.LOAD_TRUNCATED_IMAGES = True\n",
    "import plotly.figure_factory as ff\n",
    "import plotly.graph_objects as go\n",
    "import plotly.express as px\n",
    "#import streamlit as st\n",
    "#use the below library while displaying the images in jupyter notebook\n",
    "from IPython.display import display, Image\n",
    "\n",
    "fashion_df = pd.read_csv(\"./data/무신사의류데이터.csv\")\n",
    "fashion_df\n",
    "\n",
    "\n"
   ]
  },
  {
   "cell_type": "code",
   "execution_count": 26,
   "id": "ddd68b7c",
   "metadata": {
    "ExecuteTime": {
     "end_time": "2023-11-14T01:18:57.844248Z",
     "start_time": "2023-11-14T01:18:57.830579Z"
    }
   },
   "outputs": [
    {
     "data": {
      "text/html": [
       "<div>\n",
       "<style scoped>\n",
       "    .dataframe tbody tr th:only-of-type {\n",
       "        vertical-align: middle;\n",
       "    }\n",
       "\n",
       "    .dataframe tbody tr th {\n",
       "        vertical-align: top;\n",
       "    }\n",
       "\n",
       "    .dataframe thead th {\n",
       "        text-align: right;\n",
       "    }\n",
       "</style>\n",
       "<table border=\"1\" class=\"dataframe\">\n",
       "  <thead>\n",
       "    <tr style=\"text-align: right;\">\n",
       "      <th></th>\n",
       "      <th>key</th>\n",
       "      <th>매칭이미지주소</th>\n",
       "      <th>브랜드이름</th>\n",
       "      <th>제품명</th>\n",
       "      <th>가격</th>\n",
       "      <th>성별</th>\n",
       "      <th>카테고리</th>\n",
       "    </tr>\n",
       "  </thead>\n",
       "  <tbody>\n",
       "    <tr>\n",
       "      <th>0</th>\n",
       "      <td>3627500</td>\n",
       "      <td>//image.msscdn.net/images/goods_img/20231013/3...</td>\n",
       "      <td>스키즘 인듀싱</td>\n",
       "      <td>OVERSIZED CAR COAT</td>\n",
       "      <td>304,200원</td>\n",
       "      <td>MAN</td>\n",
       "      <td>비즈니스캐주얼</td>\n",
       "    </tr>\n",
       "    <tr>\n",
       "      <th>1</th>\n",
       "      <td>3438649</td>\n",
       "      <td>//image.msscdn.net/images/goods_img/20230801/3...</td>\n",
       "      <td>넌블랭크</td>\n",
       "      <td>캐시미어 블렌드 루즈 핏 하프 집업 칼라 니트_CHARCOAL</td>\n",
       "      <td>119,900원</td>\n",
       "      <td>MAN</td>\n",
       "      <td>비즈니스캐주얼</td>\n",
       "    </tr>\n",
       "    <tr>\n",
       "      <th>2</th>\n",
       "      <td>3511511</td>\n",
       "      <td>//image.msscdn.net/images/goods_img/20230829/3...</td>\n",
       "      <td>어반드레스</td>\n",
       "      <td>Pintuck Jar pants GREY</td>\n",
       "      <td>32,300원</td>\n",
       "      <td>MAN</td>\n",
       "      <td>비즈니스캐주얼</td>\n",
       "    </tr>\n",
       "    <tr>\n",
       "      <th>3</th>\n",
       "      <td>3418135</td>\n",
       "      <td>//image.msscdn.net/images/goods_img/20230720/3...</td>\n",
       "      <td>마즈</td>\n",
       "      <td>실버 플랫 베이직 반지 4mm</td>\n",
       "      <td>34,000원</td>\n",
       "      <td>MAN</td>\n",
       "      <td>비즈니스캐주얼</td>\n",
       "    </tr>\n",
       "    <tr>\n",
       "      <th>4</th>\n",
       "      <td>2991371</td>\n",
       "      <td>//image.msscdn.net/images/goods_img/20221220/2...</td>\n",
       "      <td>마즈</td>\n",
       "      <td>써지컬 라인 텍스쳐 반지</td>\n",
       "      <td>26,000원</td>\n",
       "      <td>MAN</td>\n",
       "      <td>비즈니스캐주얼</td>\n",
       "    </tr>\n",
       "  </tbody>\n",
       "</table>\n",
       "</div>"
      ],
      "text/plain": [
       "       key                                            매칭이미지주소    브랜드이름  \\\n",
       "0  3627500  //image.msscdn.net/images/goods_img/20231013/3...  스키즘 인듀싱   \n",
       "1  3438649  //image.msscdn.net/images/goods_img/20230801/3...     넌블랭크   \n",
       "2  3511511  //image.msscdn.net/images/goods_img/20230829/3...    어반드레스   \n",
       "3  3418135  //image.msscdn.net/images/goods_img/20230720/3...       마즈   \n",
       "4  2991371  //image.msscdn.net/images/goods_img/20221220/2...       마즈   \n",
       "\n",
       "                                  제품명        가격   성별     카테고리  \n",
       "0                  OVERSIZED CAR COAT  304,200원  MAN  비즈니스캐주얼  \n",
       "1  캐시미어 블렌드 루즈 핏 하프 집업 칼라 니트_CHARCOAL  119,900원  MAN  비즈니스캐주얼  \n",
       "2              Pintuck Jar pants GREY   32,300원  MAN  비즈니스캐주얼  \n",
       "3                    실버 플랫 베이직 반지 4mm   34,000원  MAN  비즈니스캐주얼  \n",
       "4                       써지컬 라인 텍스쳐 반지   26,000원  MAN  비즈니스캐주얼  "
      ]
     },
     "execution_count": 26,
     "metadata": {},
     "output_type": "execute_result"
    }
   ],
   "source": [
    "fashion_df.drop(['Unnamed: 0'], axis = 1, inplace = True)\n",
    "\n",
    "fashion_df.head()"
   ]
  },
  {
   "cell_type": "code",
   "execution_count": 27,
   "id": "eec63fcc",
   "metadata": {
    "ExecuteTime": {
     "end_time": "2023-11-14T01:18:58.018965Z",
     "start_time": "2023-11-14T01:18:57.846348Z"
    },
    "scrolled": false
   },
   "outputs": [
    {
     "name": "stdout",
     "output_type": "stream",
     "text": [
      "Total number of products :  13880\n",
      "Total number of unique subcategories :  5\n",
      "Total number of unique gender types :  3\n"
     ]
    },
    {
     "name": "stderr",
     "output_type": "stream",
     "text": [
      "/var/folders/pb/bst_vt0n5w90nsb69j8pk8240000gp/T/ipykernel_15079/2374879995.py:15: UserWarning: set_ticklabels() should only be used with a fixed number of ticks, i.e. after set_ticks() or using a FixedLocator.\n",
      "  plot.set_xticklabels(plot.get_xticklabels())\n"
     ]
    },
    {
     "data": {
      "image/png": "[encoded data removed]",
      "text/plain": [
       "<Figure size 640x480 with 1 Axes>"
      ]
     },
     "metadata": {},
     "output_type": "display_data"
    },
    {
     "name": "stdout",
     "output_type": "stream",
     "text": [
      "1905\n",
      "2627\n",
      "2152\n",
      "2307\n",
      "2707\n",
      "2182\n"
     ]
    }
   ],
   "source": [
    "print(\"Total number of products : \", fashion_df.shape[0])\n",
    "print(\"Total number of unique subcategories : \", fashion_df[\"카테고리\"].nunique())\n",
    "print(\"Total number of unique gender types : \", fashion_df[\"성별\"].nunique())\n",
    "\n",
    "fashion_df['성별'].unique()\n",
    "\n",
    "fashion_df['성별'] = fashion_df['성별'].str.lower().map({'woman': 0, 'man': 1})\n",
    "\n",
    "fashion_df['성별'].value_counts()\n",
    "\n",
    "plot = sns.countplot(fashion_df[\"성별\"])\n",
    "plt.title(\"Distribution of articles gender-wise\")\n",
    "plt.xlabel(\"Gender type\")\n",
    "plt.ylabel(\"Number of products\")\n",
    "plot.set_xticklabels(plot.get_xticklabels())\n",
    "plt.show()\n",
    "\n",
    "fashion_df[\"성별\"].value_counts()\n",
    "\n",
    "business_men = fashion_df[(fashion_df[\"카테고리\"] == \"비즈니스캐주얼\") & (fashion_df['성별'] == 1)]\n",
    "business_women = fashion_df[(fashion_df[\"카테고리\"] == \"비즈니스캐주얼\") & (fashion_df['성별'] == 0)]\n",
    "dandy_men = fashion_df[fashion_df[\"카테고리\"] == \"댄디\"]\n",
    "romantic_women = fashion_df[fashion_df[\"카테고리\"] == \"로맨틱\"]\n",
    "street_men = fashion_df[fashion_df[\"카테고리\"] == \"스트릿\"]\n",
    "casual_women =  fashion_df[fashion_df[\"카테고리\"] == \"캐주얼\"]\n",
    "\n",
    "import pandas as pd\n",
    "import requests\n",
    "from PIL import Image\n",
    "from io import BytesIO\n",
    "import scipy\n",
    "\n",
    "print(len(business_men))\n",
    "print(len(street_men))\n",
    "print(len(dandy_men))\n",
    "print(len(business_women))\n",
    "print(len(casual_women))\n",
    "print(len(romantic_women))\n",
    "\n",
    "\n"
   ]
  },
  {
   "cell_type": "code",
   "execution_count": 30,
   "id": "77c47f26",
   "metadata": {
    "ExecuteTime": {
     "end_time": "2023-11-14T02:04:46.969129Z",
     "start_time": "2023-11-14T01:53:10.504910Z"
    }
   },
   "outputs": [
    {
     "name": "stdout",
     "output_type": "stream",
     "text": [
      "Extracting features for category: business_men\n",
      "Found 1902 images belonging to 1 classes.\n",
      "60/60 [==============================] - 35s 585ms/step\n",
      "Shape of extracted features: (1902, 7, 7, 2048)\n",
      "Extracting features for category: business_women\n",
      "Found 2307 images belonging to 1 classes.\n",
      "73/73 [==============================] - 42s 575ms/step\n",
      "Shape of extracted features: (2307, 7, 7, 2048)\n",
      "Extracting features for category: casual_women\n",
      "Found 2707 images belonging to 1 classes.\n",
      "85/85 [==============================] - 55s 652ms/step\n",
      "Shape of extracted features: (2707, 7, 7, 2048)\n",
      "Extracting features for category: dandy_men\n",
      "Found 2150 images belonging to 1 classes.\n",
      "68/68 [==============================] - 40s 583ms/step\n",
      "Shape of extracted features: (2150, 7, 7, 2048)\n",
      "Extracting features for category: romantic_women\n",
      "Found 2177 images belonging to 1 classes.\n",
      "69/69 [==============================] - 40s 575ms/step\n",
      "Shape of extracted features: (2177, 7, 7, 2048)\n",
      "Extracting features for category: street_men\n",
      "Found 2626 images belonging to 1 classes.\n",
      "83/83 [==============================] - 60s 725ms/step\n",
      "Shape of extracted features: (2626, 7, 7, 2048)\n",
      "Time taken in feature extraction 0:04:36.832404\n"
     ]
    }
   ],
   "source": [
    "import os\n",
    "\n",
    "img_width, img_height = 224, 224\n",
    "train_data_dir = \"./images/\"\n",
    "epochs = 50\n",
    "batch_size = 32\n",
    "\n",
    "def extract_features():\n",
    "    datagen = ImageDataGenerator(rescale=1. / 255)\n",
    "    model = applications.ResNet50(include_top=False, weights='imagenet')\n",
    "\n",
    "    # Get the list of subdirectories (categories)\n",
    "    categories = sorted(os.listdir(train_data_dir))\n",
    "\n",
    "    for category in categories:\n",
    "        category_dir = os.path.join(train_data_dir, category)\n",
    "        print(f\"Extracting features for category: {category}\")\n",
    "\n",
    "        Itemcodes = []\n",
    "        generator = datagen.flow_from_directory(\n",
    "            category_dir,\n",
    "            target_size=(img_width, img_height),\n",
    "            batch_size=batch_size,\n",
    "            class_mode=None,\n",
    "            shuffle=False\n",
    "        )\n",
    "\n",
    "        # Calculate the number of samples in the generator\n",
    "        num_samples = len(generator.filenames)\n",
    "\n",
    "        for i in generator.filenames:\n",
    "            Itemcodes.append(i[(i.find(\"/\")+1):i.find(\".\")])\n",
    "\n",
    "        # Use model.predict instead of predict_generator\n",
    "        extracted_features = model.predict(generator, verbose=1)\n",
    "        print(\"Shape of extracted features:\", extracted_features.shape)\n",
    "\n",
    "        # Reshape the features\n",
    "        extracted_features = extracted_features.reshape((num_samples, -1))\n",
    "\n",
    "        # Save features and item codes for each category\n",
    "        np.save(open(f'./{category}_ResNet_features.npy', 'wb'), extracted_features)\n",
    "        np.save(open(f'./{category}_ResNet_feature_product_ids.npy', 'wb'), np.array(Itemcodes))\n",
    "\n",
    "a = datetime.now()\n",
    "extract_features()\n",
    "print(\"Time taken in feature extraction\", datetime.now()-a)"
   ]
  },
  {
   "cell_type": "code",
   "execution_count": 68,
   "id": "80e40b42",
   "metadata": {
    "ExecuteTime": {
     "end_time": "2023-11-14T02:12:12.431202Z",
     "start_time": "2023-11-14T02:12:12.067280Z"
    }
   },
   "outputs": [
    {
     "name": "stdout",
     "output_type": "stream",
     "text": [
      "[0 3627500\n",
      " '//image.msscdn.net/images/goods_img/20231013/3627500/3627500_16972035181511_220.jpg'\n",
      " '스키즘 인듀싱' 'OVERSIZED CAR COAT' '304,200원' 'MAN' '비즈니스캐주얼']\n"
     ]
    }
   ],
   "source": [
    "extracted_features = np.load('./business_men_ResNet_features.npy')\n",
    "Productids = np.load('./business_men_ResNet_feature_product_ids.npy')\n",
    "business_men = pd.read_csv('./data/무신사남성비즈니스.csv')\n",
    "df_Productids = list(business_men['key'])\n",
    "Productids = list(Productids)\n",
    "print(business_men.iloc[0].values)"
   ]
  },
  {
   "cell_type": "code",
   "execution_count": 36,
   "id": "0e00d178",
   "metadata": {
    "ExecuteTime": {
     "end_time": "2023-11-14T02:28:38.119326Z",
     "start_time": "2023-11-14T02:28:37.296204Z"
    }
   },
   "outputs": [
    {
     "name": "stdout",
     "output_type": "stream",
     "text": [
      "[   0 1139 1246 1477  745]\n",
      "==================== input product image ====================\n",
      "\n",
      " ==================== Recommended products ====================\n"
     ]
    }
   ],
   "source": [
    "\n",
    "def get_similar_products_cnn(product_id, num_results):\n",
    "    doc_id = Productids.index(product_id)\n",
    "    pairwise_dist = pairwise_distances(extracted_features, extracted_features[doc_id].reshape(1,-1))\n",
    "    indices = np.argsort(pairwise_dist.flatten())[0:num_results]\n",
    "    pdists  = np.sort(pairwise_dist.flatten())[0:num_results]\n",
    "    print(indices)\n",
    "    print(\"=\"*20, \"input product image\", \"=\"*20)\n",
    "    ip_row = business_men[['매칭이미지주소','제품명']].loc[business_men['key']==Productids[indices[0]]]\n",
    "    # 이미지 URL이 \"https:\"로 시작하지 않으면 추가\n",
    "    #print(ip_row.head())\n",
    "    for indx, row in ip_row.iterrows():\n",
    "        if not row['매칭이미지주소'].startswith(\"https:\"):\n",
    "            row['매칭이미지주소'] = \"https:\" + row['매칭이미지주소']\n",
    "        display(Image(url=row['매칭이미지주소'], width = 224, height = 224,embed=True))\n",
    "        print('Product Title: ', row['제품명'])\n",
    "        print('Image URL:', row['매칭이미지주소'])\n",
    "        print('Product Title:', row['제품명'])\n",
    "    print(\"\\n\",\"=\"*20, \"Recommended products\", \"=\"*20)\n",
    "\n",
    "    for i in range(1,len(indices)):\n",
    "        rows = business_men[['매칭이미지주소','제품명']].loc[business_men['제품명']==Productids[indices[i]]]\n",
    "        for indx, row in rows.iterrows():\n",
    "            display(Image(url=row['매칭이미지주소'], width = 224, height = 224,embed=True))\n",
    "            print('Product Title: ', row['제품명'])\n",
    "            print('Euclidean Distance from input image:', pdists[i])\n",
    "\n",
    "get_similar_products_cnn('image_0_image', 5)"
   ]
  },
  {
   "cell_type": "code",
   "execution_count": 75,
   "id": "933d153e",
   "metadata": {
    "ExecuteTime": {
     "end_time": "2023-11-14T02:35:01.568477Z",
     "start_time": "2023-11-14T02:35:00.265043Z"
    }
   },
   "outputs": [
    {
     "name": "stdout",
     "output_type": "stream",
     "text": [
      "==================== input product image ====================\n",
      "\n",
      " ==================== Recommended products ====================\n"
     ]
    },
    {
     "data": {
      "image/jpeg": "[encoded data removed]",
      "text/plain": [
       "<IPython.core.display.Image object>"
      ]
     },
     "metadata": {
      "image/jpeg": {
       "height": 224,
       "width": 224
      }
     },
     "output_type": "display_data"
    },
    {
     "name": "stdout",
     "output_type": "stream",
     "text": [
      "Product Title:  OVERSIZED CAR COAT\n",
      "Euclidean Distance from input image: 1.57284e-05\n"
     ]
    },
    {
     "data": {
      "image/jpeg": "[encoded data removed]",
      "text/plain": [
       "<IPython.core.display.Image object>"
      ]
     },
     "metadata": {
      "image/jpeg": {
       "height": 224,
       "width": 224
      }
     },
     "output_type": "display_data"
    },
    {
     "name": "stdout",
     "output_type": "stream",
     "text": [
      "Product Title:  오픈 카라 숏 슬리브 니트\n",
      "Euclidean Distance from input image: 37.953003\n"
     ]
    },
    {
     "data": {
      "image/jpeg": "[encoded data removed]",
      "text/plain": [
       "<IPython.core.display.Image object>"
      ]
     },
     "metadata": {
      "image/jpeg": {
       "height": 224,
       "width": 224
      }
     },
     "output_type": "display_data"
    },
    {
     "name": "stdout",
     "output_type": "stream",
     "text": [
      "Product Title:  램스킨 터치 글러브 [블랙]\n",
      "Euclidean Distance from input image: 38.906746\n"
     ]
    },
    {
     "data": {
      "image/jpeg": "[encoded data removed]",
      "text/plain": [
       "<IPython.core.display.Image object>"
      ]
     },
     "metadata": {
      "image/jpeg": {
       "height": 224,
       "width": 224
      }
     },
     "output_type": "display_data"
    },
    {
     "name": "stdout",
     "output_type": "stream",
     "text": [
      "Product Title:  시어서커 블레이저 [블랙]\n",
      "Euclidean Distance from input image: 39.352444\n"
     ]
    },
    {
     "data": {
      "image/jpeg": "[encoded data removed]",
      "text/plain": [
       "<IPython.core.display.Image object>"
      ]
     },
     "metadata": {
      "image/jpeg": {
       "height": 224,
       "width": 224
      }
     },
     "output_type": "display_data"
    },
    {
     "name": "stdout",
     "output_type": "stream",
     "text": [
      "Product Title:  [남여공용] 써지컬 자석유닛 2컬러 가죽팔찌 / GHMB-166\n",
      "Euclidean Distance from input image: 39.36461\n"
     ]
    }
   ],
   "source": [
    "import numpy as np\n",
    "import pandas as pd\n",
    "from sklearn.metrics.pairwise import pairwise_distances\n",
    "from IPython.display import Image, display\n",
    "\n",
    "# ResNet을 통해 추출한 제품 이미지의 특징\n",
    "extracted_features = np.load('./business_men_ResNet_features.npy')\n",
    "\n",
    "# 각 제품에 대한 고유한 ID 리스트\n",
    "Productids = np.load('./business_men_ResNet_feature_product_ids.npy')\n",
    "business_men = pd.read_csv('./data/무신사남성비즈니스.csv')\n",
    "df_Productids = list(business_men['key'])\n",
    "Productids = list(Productids)\n",
    "\n",
    "import matplotlib.pyplot as plt\n",
    "import matplotlib.image as mpimg\n",
    "\n",
    "def display_images_with_titles(images_and_titles):\n",
    "    for image_path, title in images_and_titles:\n",
    "        img = mpimg.imread(image_path)\n",
    "        plt.imshow(img)\n",
    "        plt.title(title)\n",
    "        plt.axis('off')\n",
    "        plt.show()\n",
    "\n",
    "def get_similar_products_cnn(product_id, num_results):\n",
    "    doc_id = Productids.index(product_id)\n",
    "    pairwise_dist = pairwise_distances(extracted_features, extracted_features[doc_id].reshape(1, -1))\n",
    "    indices = np.argsort(pairwise_dist.flatten())[0:num_results]\n",
    "    pdists = np.sort(pairwise_dist.flatten())[0:num_results]\n",
    "    \n",
    "    print(\"=\" * 20, \"input product image\", \"=\" * 20)\n",
    "    print(\"\\n\", \"=\" * 20, \"Recommended products\", \"=\" * 20)\n",
    "    for i in range(0, len(indices)):\n",
    "        row = business_men[['매칭이미지주소', '제품명']].iloc[int(Productids[indices[i]].split('_')[1])]\n",
    "        # 이미지 URL이 \"https:\"로 시작하지 않으면 추가\n",
    "        if not row['매칭이미지주소'].startswith(\"https:\"):\n",
    "            row['매칭이미지주소'] = \"https:\" + row['매칭이미지주소']\n",
    "        display(Image(url=row['매칭이미지주소'], width=224, height=224, embed=True))\n",
    "        print('Product Title: ', row['제품명'])\n",
    "        print('Euclidean Distance from input image:', pdists[i])\n",
    "\n",
    "# 함수를 호출하여 유사한 제품을 찾고 이미지와 제목을 출력\n",
    "get_similar_products_cnn('image_0_image', 5)"
   ]
  },
  {
   "cell_type": "code",
   "execution_count": 46,
   "id": "e2d18c55",
   "metadata": {},
   "outputs": [
    {
     "name": "stdout",
     "output_type": "stream",
     "text": [
      "Found 0 images belonging to 0 classes.\n",
      "Data batch shape: (0, 224, 224, 3)\n"
     ]
    }
   ],
   "source": [
    "# ImageDataGenerator 설정\n",
    "datagen = ImageDataGenerator(rescale=1. / 255)\n",
    "\n",
    "# generator 생성 및 데이터 출력\n",
    "generator = datagen.flow_from_directory(\n",
    "    train_data_dir,\n",
    "    target_size=(img_width, img_height),\n",
    "    batch_size=batch_size,\n",
    "    class_mode=None,  # 클래스 정보를 읽지 않음\n",
    "    shuffle=False\n",
    ")\n",
    "\n",
    "# 데이터 출력\n",
    "for data_batch in generator:\n",
    "    print('Data batch shape:', data_batch.shape)\n",
    "    break\n"
   ]
  },
  {
   "cell_type": "code",
   "execution_count": 38,
   "id": "29cb89c8",
   "metadata": {},
   "outputs": [],
   "source": [
    "def get_similar_products_cnn(product_id, num_results, fashion_df, extracted_features_dict, product_ids_dict):\n",
    "    gender_mapping = {'MAN': 'man', 'WOMAN': 'woman'}  # 성별에 대한 매핑\n",
    "    category_mapping = {'비즈니스캐주얼': 'business', '댄디': 'dandy', '로맨틱': 'romantic', '스트릿': 'street', '캐주얼': 'casual'}\n",
    "\n",
    "    gender = fashion_df[fashion_df['id'] == int(product_id)]['성별'].values[0]\n",
    "    category = fashion_df[fashion_df['id'] == int(product_id)]['카테고리'].values[0]\n",
    "\n",
    "    gender_str = gender_mapping.get(gender, None)\n",
    "    category_str = category_mapping.get(category, None)\n",
    "\n",
    "    if gender_str is None or category_str is None:\n",
    "        print(\"올바르지 않은 성별 또는 카테고리입니다.\")\n",
    "        return\n",
    "\n",
    "    key = f\"{gender_str}_{category_str}\"\n",
    "    extracted_features = extracted_features_dict.get(key, None)\n",
    "    Productids = product_ids_dict.get(key, None)\n",
    "\n",
    "    if extracted_features is None or Productids is None or len(Productids) == 0:\n",
    "        print(\"주어진 성별 및 카테고리에 대한 제품을 찾을 수 없습니다.\")\n",
    "        return\n",
    "\n",
    "    Productids = list(Productids)\n",
    "    doc_id = Productids.index(product_id)\n",
    "\n",
    "    if doc_id >= len(Productids):\n",
    "        print(f\"잘못된 제품 ID입니다: {product_id}\")\n",
    "        return\n",
    "\n",
    "    pairwise_dist = pairwise_distances(extracted_features, extracted_features[doc_id].reshape(1, -1))\n",
    "    indices = np.argsort(pairwise_dist.flatten())[:num_results]\n",
    "    pdists = np.sort(pairwise_dist.flatten())[:num_results]\n",
    "    print(\"=\" * 20, \"입력 제품 이미지\", \"=\" * 20)\n",
    "    ip_row = fashion_df[['매칭이미지주소', '브랜드이름', '제품명', '가격']].loc[fashion_df['id'] == int(Productids[indices[0]])]\n",
    "    \n",
    "    # 입력 제품 정보 표시\n",
    "    for indx, row in ip_row.iterrows():\n",
    "        display(Image(url=row['매칭이미지주소'], width=224, height=224, embed=True))\n",
    "        print(f\"브랜드: {row['브랜드이름']}\")\n",
    "        print(f\"제품명: {row['제품명']}\")\n",
    "        print(f\"가격: {row['가격']}\")\n",
    "    \n",
    "    print(\"\\n\", \"=\" * 20, \"추천 제품\", \"=\" * 20)\n",
    "    \n",
    "    # 추천 제품 표시\n",
    "    for i in range(1, len(indices)):\n",
    "        rows = fashion_df[['매칭이미지주소', '브랜드이름', '제품명', '가격']].loc[fashion_df['id'] == int(Productids[indices[i]])]\n",
    "        for indx, row in rows.iterrows():\n",
    "            display(Image(url=row['매칭이미지주소'], width=224, height=224, embed=True))\n",
    "            print(f\"브랜드: {row['브랜드이름']}\")\n",
    "            print(f\"제품명: {row['제품명']}\")\n",
    "            print(f\"가격: {row['가격']}\")\n",
    "            print('입력 이미지로부터의 유클리드 거리:', pdists[i])\n"
   ]
  },
  {
   "cell_type": "code",
   "execution_count": 39,
   "id": "018fbe46",
   "metadata": {},
   "outputs": [
    {
     "ename": "NameError",
     "evalue": "name 'extracted_features_dict' is not defined",
     "output_type": "error",
     "traceback": [
      "\u001b[0;31m---------------------------------------------------------------------------\u001b[0m",
      "\u001b[0;31mNameError\u001b[0m                                 Traceback (most recent call last)",
      "Cell \u001b[0;32mIn[39], line 1\u001b[0m\n\u001b[0;32m----> 1\u001b[0m get_similar_products_cnn(\u001b[38;5;124m'\u001b[39m\u001b[38;5;124m3627500\u001b[39m\u001b[38;5;124m'\u001b[39m, \u001b[38;5;241m5\u001b[39m, fashion_df, \u001b[43mextracted_features_dict\u001b[49m, product_ids_dict)\n",
      "\u001b[0;31mNameError\u001b[0m: name 'extracted_features_dict' is not defined"
     ]
    }
   ],
   "source": [
    "\n",
    "get_similar_products_cnn('3627500', 5, fashion_df, extracted_features_dict, product_ids_dict)\n"
   ]
  },
  {
   "cell_type": "code",
   "execution_count": null,
   "id": "e2209eca",
   "metadata": {},
   "outputs": [],
   "source": [
    "\n"
   ]
  },
  {
   "cell_type": "code",
   "execution_count": null,
   "id": "0e109707",
   "metadata": {},
   "outputs": [],
   "source": [
    "st.write(\"\"\"\n",
    "         ## Visual Similarity based Recommendation\n",
    "         \"\"\"\n",
    "         )\n",
    "\n",
    "\n",
    "user_input1 = st.text_input(\"Enter the item id\")\n",
    "user_input2 = st.text_input(\"Enter number of products to be recommended\")\n",
    "\n",
    "\n",
    "button = st.button('Generate recommendations')\n",
    "if button:\n",
    "    get_similar_products_cnn(str(user_input1), int(user_input2))"
   ]
  },
  {
   "cell_type": "code",
   "execution_count": 21,
   "id": "0cf2bf8f",
   "metadata": {},
   "outputs": [
    {
     "name": "stdout",
     "output_type": "stream",
     "text": [
      "Index(['Unnamed: 0', 'key', '매칭이미지주소', '브랜드이름', '제품명', '가격', '성별', '카테고리'], dtype='object')\n"
     ]
    },
    {
     "name": "stderr",
     "output_type": "stream",
     "text": [
      "/var/folders/pb/bst_vt0n5w90nsb69j8pk8240000gp/T/ipykernel_15079/714982693.py:26: UserWarning: set_ticklabels() should only be used with a fixed number of ticks, i.e. after set_ticks() or using a FixedLocator.\n",
      "  plot.set_xticklabels(plot.get_xticklabels())\n"
     ]
    },
    {
     "data": {
      "image/png": "[encoded data removed]",
      "text/plain": [
       "<Figure size 640x480 with 1 Axes>"
      ]
     },
     "metadata": {},
     "output_type": "display_data"
    },
    {
     "name": "stdout",
     "output_type": "stream",
     "text": [
      "성별\n",
      "MAN      6684\n",
      "WOMAN    4489\n",
      "woman    2707\n",
      "Name: count, dtype: int64\n",
      "Found 13869 images belonging to 6 classes.\n"
     ]
    },
    {
     "name": "stderr",
     "output_type": "stream",
     "text": [
      "/var/folders/pb/bst_vt0n5w90nsb69j8pk8240000gp/T/ipykernel_15079/714982693.py:62: UserWarning: `Model.predict_generator` is deprecated and will be removed in a future version. Please use `Model.predict`, which supports generators.\n",
      "  extracted_features = model.predict_generator(generator, num_samples // batch_size)\n"
     ]
    },
    {
     "ename": "KeyboardInterrupt",
     "evalue": "",
     "output_type": "error",
     "traceback": [
      "\u001b[0;31m---------------------------------------------------------------------------\u001b[0m",
      "\u001b[0;31mKeyboardInterrupt\u001b[0m                         Traceback (most recent call last)",
      "Cell \u001b[0;32mIn[21], line 69\u001b[0m\n\u001b[1;32m     66\u001b[0m     np\u001b[38;5;241m.\u001b[39msave(\u001b[38;5;28mopen\u001b[39m(\u001b[38;5;124mf\u001b[39m\u001b[38;5;124m'\u001b[39m\u001b[38;5;124m./model/\u001b[39m\u001b[38;5;132;01m{\u001b[39;00msave_prefix\u001b[38;5;132;01m}\u001b[39;00m\u001b[38;5;124m_ResNet_feature_product_ids.npy\u001b[39m\u001b[38;5;124m'\u001b[39m, \u001b[38;5;124m'\u001b[39m\u001b[38;5;124mwb\u001b[39m\u001b[38;5;124m'\u001b[39m), np\u001b[38;5;241m.\u001b[39marray(Itemcodes))\n\u001b[1;32m     68\u001b[0m \u001b[38;5;66;03m# 함수 호출\u001b[39;00m\n\u001b[0;32m---> 69\u001b[0m \u001b[43mextract_features_and_save_single_dir\u001b[49m\u001b[43m(\u001b[49m\u001b[43mtrain_data_dir\u001b[49m\u001b[43m,\u001b[49m\u001b[43m \u001b[49m\u001b[43mnb_train_samples\u001b[49m\u001b[43m,\u001b[49m\u001b[43m \u001b[49m\u001b[38;5;124;43m'\u001b[39;49m\u001b[38;5;124;43mAll\u001b[39;49m\u001b[38;5;124;43m'\u001b[39;49m\u001b[43m)\u001b[49m\n\u001b[1;32m     71\u001b[0m \u001b[38;5;66;03m# get_similar_products_cnn 함수도 수정\u001b[39;00m\n\u001b[1;32m     72\u001b[0m \u001b[38;5;28;01mdef\u001b[39;00m \u001b[38;5;21mget_similar_products_cnn\u001b[39m(product_id, num_results, fashion_df, extracted_features_dict, product_ids_dict):\n",
      "Cell \u001b[0;32mIn[21], line 62\u001b[0m, in \u001b[0;36mextract_features_and_save_single_dir\u001b[0;34m(train_data_dir, num_samples, save_prefix)\u001b[0m\n\u001b[1;32m     60\u001b[0m \u001b[38;5;28;01mfor\u001b[39;00m i \u001b[38;5;129;01min\u001b[39;00m generator\u001b[38;5;241m.\u001b[39mfilenames:\n\u001b[1;32m     61\u001b[0m     Itemcodes\u001b[38;5;241m.\u001b[39mappend(i[:i\u001b[38;5;241m.\u001b[39mfind(\u001b[38;5;124m\"\u001b[39m\u001b[38;5;124m.\u001b[39m\u001b[38;5;124m\"\u001b[39m)])\n\u001b[0;32m---> 62\u001b[0m extracted_features \u001b[38;5;241m=\u001b[39m \u001b[43mmodel\u001b[49m\u001b[38;5;241;43m.\u001b[39;49m\u001b[43mpredict_generator\u001b[49m\u001b[43m(\u001b[49m\u001b[43mgenerator\u001b[49m\u001b[43m,\u001b[49m\u001b[43m \u001b[49m\u001b[43mnum_samples\u001b[49m\u001b[43m \u001b[49m\u001b[38;5;241;43m/\u001b[39;49m\u001b[38;5;241;43m/\u001b[39;49m\u001b[43m \u001b[49m\u001b[43mbatch_size\u001b[49m\u001b[43m)\u001b[49m\n\u001b[1;32m     63\u001b[0m extracted_features \u001b[38;5;241m=\u001b[39m extracted_features\u001b[38;5;241m.\u001b[39mreshape((num_samples, \u001b[38;5;241m100352\u001b[39m))\n\u001b[1;32m     65\u001b[0m np\u001b[38;5;241m.\u001b[39msave(\u001b[38;5;28mopen\u001b[39m(\u001b[38;5;124mf\u001b[39m\u001b[38;5;124m'\u001b[39m\u001b[38;5;124m./model/\u001b[39m\u001b[38;5;132;01m{\u001b[39;00msave_prefix\u001b[38;5;132;01m}\u001b[39;00m\u001b[38;5;124m_ResNet_features.npy\u001b[39m\u001b[38;5;124m'\u001b[39m, \u001b[38;5;124m'\u001b[39m\u001b[38;5;124mwb\u001b[39m\u001b[38;5;124m'\u001b[39m), extracted_features)\n",
      "File \u001b[0;32m/opt/homebrew/lib/python3.11/site-packages/keras/src/engine/training.py:2988\u001b[0m, in \u001b[0;36mModel.predict_generator\u001b[0;34m(self, generator, steps, callbacks, max_queue_size, workers, use_multiprocessing, verbose)\u001b[0m\n\u001b[1;32m   2976\u001b[0m \u001b[38;5;250m\u001b[39m\u001b[38;5;124;03m\"\"\"Generates predictions for the input samples from a data generator.\u001b[39;00m\n\u001b[1;32m   2977\u001b[0m \n\u001b[1;32m   2978\u001b[0m \u001b[38;5;124;03mDEPRECATED:\u001b[39;00m\n\u001b[1;32m   2979\u001b[0m \u001b[38;5;124;03m  `Model.predict` now supports generators, so there is no longer any\u001b[39;00m\n\u001b[1;32m   2980\u001b[0m \u001b[38;5;124;03m  need to use this endpoint.\u001b[39;00m\n\u001b[1;32m   2981\u001b[0m \u001b[38;5;124;03m\"\"\"\u001b[39;00m\n\u001b[1;32m   2982\u001b[0m warnings\u001b[38;5;241m.\u001b[39mwarn(\n\u001b[1;32m   2983\u001b[0m     \u001b[38;5;124m\"\u001b[39m\u001b[38;5;124m`Model.predict_generator` is deprecated and \u001b[39m\u001b[38;5;124m\"\u001b[39m\n\u001b[1;32m   2984\u001b[0m     \u001b[38;5;124m\"\u001b[39m\u001b[38;5;124mwill be removed in a future version. \u001b[39m\u001b[38;5;124m\"\u001b[39m\n\u001b[1;32m   2985\u001b[0m     \u001b[38;5;124m\"\u001b[39m\u001b[38;5;124mPlease use `Model.predict`, which supports generators.\u001b[39m\u001b[38;5;124m\"\u001b[39m,\n\u001b[1;32m   2986\u001b[0m     stacklevel\u001b[38;5;241m=\u001b[39m\u001b[38;5;241m2\u001b[39m,\n\u001b[1;32m   2987\u001b[0m )\n\u001b[0;32m-> 2988\u001b[0m \u001b[38;5;28;01mreturn\u001b[39;00m \u001b[38;5;28;43mself\u001b[39;49m\u001b[38;5;241;43m.\u001b[39;49m\u001b[43mpredict\u001b[49m\u001b[43m(\u001b[49m\n\u001b[1;32m   2989\u001b[0m \u001b[43m    \u001b[49m\u001b[43mgenerator\u001b[49m\u001b[43m,\u001b[49m\n\u001b[1;32m   2990\u001b[0m \u001b[43m    \u001b[49m\u001b[43msteps\u001b[49m\u001b[38;5;241;43m=\u001b[39;49m\u001b[43msteps\u001b[49m\u001b[43m,\u001b[49m\n\u001b[1;32m   2991\u001b[0m \u001b[43m    \u001b[49m\u001b[43mmax_queue_size\u001b[49m\u001b[38;5;241;43m=\u001b[39;49m\u001b[43mmax_queue_size\u001b[49m\u001b[43m,\u001b[49m\n\u001b[1;32m   2992\u001b[0m \u001b[43m    \u001b[49m\u001b[43mworkers\u001b[49m\u001b[38;5;241;43m=\u001b[39;49m\u001b[43mworkers\u001b[49m\u001b[43m,\u001b[49m\n\u001b[1;32m   2993\u001b[0m \u001b[43m    \u001b[49m\u001b[43muse_multiprocessing\u001b[49m\u001b[38;5;241;43m=\u001b[39;49m\u001b[43muse_multiprocessing\u001b[49m\u001b[43m,\u001b[49m\n\u001b[1;32m   2994\u001b[0m \u001b[43m    \u001b[49m\u001b[43mverbose\u001b[49m\u001b[38;5;241;43m=\u001b[39;49m\u001b[43mverbose\u001b[49m\u001b[43m,\u001b[49m\n\u001b[1;32m   2995\u001b[0m \u001b[43m    \u001b[49m\u001b[43mcallbacks\u001b[49m\u001b[38;5;241;43m=\u001b[39;49m\u001b[43mcallbacks\u001b[49m\u001b[43m,\u001b[49m\n\u001b[1;32m   2996\u001b[0m \u001b[43m\u001b[49m\u001b[43m)\u001b[49m\n",
      "File \u001b[0;32m/opt/homebrew/lib/python3.11/site-packages/keras/src/utils/traceback_utils.py:65\u001b[0m, in \u001b[0;36mfilter_traceback.<locals>.error_handler\u001b[0;34m(*args, **kwargs)\u001b[0m\n\u001b[1;32m     63\u001b[0m filtered_tb \u001b[38;5;241m=\u001b[39m \u001b[38;5;28;01mNone\u001b[39;00m\n\u001b[1;32m     64\u001b[0m \u001b[38;5;28;01mtry\u001b[39;00m:\n\u001b[0;32m---> 65\u001b[0m     \u001b[38;5;28;01mreturn\u001b[39;00m \u001b[43mfn\u001b[49m\u001b[43m(\u001b[49m\u001b[38;5;241;43m*\u001b[39;49m\u001b[43margs\u001b[49m\u001b[43m,\u001b[49m\u001b[43m \u001b[49m\u001b[38;5;241;43m*\u001b[39;49m\u001b[38;5;241;43m*\u001b[39;49m\u001b[43mkwargs\u001b[49m\u001b[43m)\u001b[49m\n\u001b[1;32m     66\u001b[0m \u001b[38;5;28;01mexcept\u001b[39;00m \u001b[38;5;167;01mException\u001b[39;00m \u001b[38;5;28;01mas\u001b[39;00m e:\n\u001b[1;32m     67\u001b[0m     filtered_tb \u001b[38;5;241m=\u001b[39m _process_traceback_frames(e\u001b[38;5;241m.\u001b[39m__traceback__)\n",
      "File \u001b[0;32m/opt/homebrew/lib/python3.11/site-packages/keras/src/engine/training.py:2655\u001b[0m, in \u001b[0;36mModel.predict\u001b[0;34m(self, x, batch_size, verbose, steps, callbacks, max_queue_size, workers, use_multiprocessing)\u001b[0m\n\u001b[1;32m   2653\u001b[0m \u001b[38;5;28;01mfor\u001b[39;00m step \u001b[38;5;129;01min\u001b[39;00m data_handler\u001b[38;5;241m.\u001b[39msteps():\n\u001b[1;32m   2654\u001b[0m     callbacks\u001b[38;5;241m.\u001b[39mon_predict_batch_begin(step)\n\u001b[0;32m-> 2655\u001b[0m     tmp_batch_outputs \u001b[38;5;241m=\u001b[39m \u001b[38;5;28;43mself\u001b[39;49m\u001b[38;5;241;43m.\u001b[39;49m\u001b[43mpredict_function\u001b[49m\u001b[43m(\u001b[49m\u001b[43miterator\u001b[49m\u001b[43m)\u001b[49m\n\u001b[1;32m   2656\u001b[0m     \u001b[38;5;28;01mif\u001b[39;00m data_handler\u001b[38;5;241m.\u001b[39mshould_sync:\n\u001b[1;32m   2657\u001b[0m         context\u001b[38;5;241m.\u001b[39masync_wait()\n",
      "File \u001b[0;32m/opt/homebrew/lib/python3.11/site-packages/tensorflow/python/util/traceback_utils.py:150\u001b[0m, in \u001b[0;36mfilter_traceback.<locals>.error_handler\u001b[0;34m(*args, **kwargs)\u001b[0m\n\u001b[1;32m    148\u001b[0m filtered_tb \u001b[38;5;241m=\u001b[39m \u001b[38;5;28;01mNone\u001b[39;00m\n\u001b[1;32m    149\u001b[0m \u001b[38;5;28;01mtry\u001b[39;00m:\n\u001b[0;32m--> 150\u001b[0m   \u001b[38;5;28;01mreturn\u001b[39;00m \u001b[43mfn\u001b[49m\u001b[43m(\u001b[49m\u001b[38;5;241;43m*\u001b[39;49m\u001b[43margs\u001b[49m\u001b[43m,\u001b[49m\u001b[43m \u001b[49m\u001b[38;5;241;43m*\u001b[39;49m\u001b[38;5;241;43m*\u001b[39;49m\u001b[43mkwargs\u001b[49m\u001b[43m)\u001b[49m\n\u001b[1;32m    151\u001b[0m \u001b[38;5;28;01mexcept\u001b[39;00m \u001b[38;5;167;01mException\u001b[39;00m \u001b[38;5;28;01mas\u001b[39;00m e:\n\u001b[1;32m    152\u001b[0m   filtered_tb \u001b[38;5;241m=\u001b[39m _process_traceback_frames(e\u001b[38;5;241m.\u001b[39m__traceback__)\n",
      "File \u001b[0;32m/opt/homebrew/lib/python3.11/site-packages/tensorflow/python/eager/polymorphic_function/polymorphic_function.py:832\u001b[0m, in \u001b[0;36mFunction.__call__\u001b[0;34m(self, *args, **kwds)\u001b[0m\n\u001b[1;32m    829\u001b[0m compiler \u001b[38;5;241m=\u001b[39m \u001b[38;5;124m\"\u001b[39m\u001b[38;5;124mxla\u001b[39m\u001b[38;5;124m\"\u001b[39m \u001b[38;5;28;01mif\u001b[39;00m \u001b[38;5;28mself\u001b[39m\u001b[38;5;241m.\u001b[39m_jit_compile \u001b[38;5;28;01melse\u001b[39;00m \u001b[38;5;124m\"\u001b[39m\u001b[38;5;124mnonXla\u001b[39m\u001b[38;5;124m\"\u001b[39m\n\u001b[1;32m    831\u001b[0m \u001b[38;5;28;01mwith\u001b[39;00m OptionalXlaContext(\u001b[38;5;28mself\u001b[39m\u001b[38;5;241m.\u001b[39m_jit_compile):\n\u001b[0;32m--> 832\u001b[0m   result \u001b[38;5;241m=\u001b[39m \u001b[38;5;28;43mself\u001b[39;49m\u001b[38;5;241;43m.\u001b[39;49m\u001b[43m_call\u001b[49m\u001b[43m(\u001b[49m\u001b[38;5;241;43m*\u001b[39;49m\u001b[43margs\u001b[49m\u001b[43m,\u001b[49m\u001b[43m \u001b[49m\u001b[38;5;241;43m*\u001b[39;49m\u001b[38;5;241;43m*\u001b[39;49m\u001b[43mkwds\u001b[49m\u001b[43m)\u001b[49m\n\u001b[1;32m    834\u001b[0m new_tracing_count \u001b[38;5;241m=\u001b[39m \u001b[38;5;28mself\u001b[39m\u001b[38;5;241m.\u001b[39mexperimental_get_tracing_count()\n\u001b[1;32m    835\u001b[0m without_tracing \u001b[38;5;241m=\u001b[39m (tracing_count \u001b[38;5;241m==\u001b[39m new_tracing_count)\n",
      "File \u001b[0;32m/opt/homebrew/lib/python3.11/site-packages/tensorflow/python/eager/polymorphic_function/polymorphic_function.py:877\u001b[0m, in \u001b[0;36mFunction._call\u001b[0;34m(self, *args, **kwds)\u001b[0m\n\u001b[1;32m    874\u001b[0m \u001b[38;5;28mself\u001b[39m\u001b[38;5;241m.\u001b[39m_lock\u001b[38;5;241m.\u001b[39mrelease()\n\u001b[1;32m    875\u001b[0m \u001b[38;5;66;03m# In this case we have not created variables on the first call. So we can\u001b[39;00m\n\u001b[1;32m    876\u001b[0m \u001b[38;5;66;03m# run the first trace but we should fail if variables are created.\u001b[39;00m\n\u001b[0;32m--> 877\u001b[0m results \u001b[38;5;241m=\u001b[39m \u001b[43mtracing_compilation\u001b[49m\u001b[38;5;241;43m.\u001b[39;49m\u001b[43mcall_function\u001b[49m\u001b[43m(\u001b[49m\n\u001b[1;32m    878\u001b[0m \u001b[43m    \u001b[49m\u001b[43margs\u001b[49m\u001b[43m,\u001b[49m\u001b[43m \u001b[49m\u001b[43mkwds\u001b[49m\u001b[43m,\u001b[49m\u001b[43m \u001b[49m\u001b[38;5;28;43mself\u001b[39;49m\u001b[38;5;241;43m.\u001b[39;49m\u001b[43m_variable_creation_config\u001b[49m\n\u001b[1;32m    879\u001b[0m \u001b[43m\u001b[49m\u001b[43m)\u001b[49m\n\u001b[1;32m    880\u001b[0m \u001b[38;5;28;01mif\u001b[39;00m \u001b[38;5;28mself\u001b[39m\u001b[38;5;241m.\u001b[39m_created_variables:\n\u001b[1;32m    881\u001b[0m   \u001b[38;5;28;01mraise\u001b[39;00m \u001b[38;5;167;01mValueError\u001b[39;00m(\u001b[38;5;124m\"\u001b[39m\u001b[38;5;124mCreating variables on a non-first call to a function\u001b[39m\u001b[38;5;124m\"\u001b[39m\n\u001b[1;32m    882\u001b[0m                    \u001b[38;5;124m\"\u001b[39m\u001b[38;5;124m decorated with tf.function.\u001b[39m\u001b[38;5;124m\"\u001b[39m)\n",
      "File \u001b[0;32m/opt/homebrew/lib/python3.11/site-packages/tensorflow/python/eager/polymorphic_function/tracing_compilation.py:139\u001b[0m, in \u001b[0;36mcall_function\u001b[0;34m(args, kwargs, tracing_options)\u001b[0m\n\u001b[1;32m    137\u001b[0m bound_args \u001b[38;5;241m=\u001b[39m function\u001b[38;5;241m.\u001b[39mfunction_type\u001b[38;5;241m.\u001b[39mbind(\u001b[38;5;241m*\u001b[39margs, \u001b[38;5;241m*\u001b[39m\u001b[38;5;241m*\u001b[39mkwargs)\n\u001b[1;32m    138\u001b[0m flat_inputs \u001b[38;5;241m=\u001b[39m function\u001b[38;5;241m.\u001b[39mfunction_type\u001b[38;5;241m.\u001b[39munpack_inputs(bound_args)\n\u001b[0;32m--> 139\u001b[0m \u001b[38;5;28;01mreturn\u001b[39;00m \u001b[43mfunction\u001b[49m\u001b[38;5;241;43m.\u001b[39;49m\u001b[43m_call_flat\u001b[49m\u001b[43m(\u001b[49m\u001b[43m  \u001b[49m\u001b[38;5;66;43;03m# pylint: disable=protected-access\u001b[39;49;00m\n\u001b[1;32m    140\u001b[0m \u001b[43m    \u001b[49m\u001b[43mflat_inputs\u001b[49m\u001b[43m,\u001b[49m\u001b[43m \u001b[49m\u001b[43mcaptured_inputs\u001b[49m\u001b[38;5;241;43m=\u001b[39;49m\u001b[43mfunction\u001b[49m\u001b[38;5;241;43m.\u001b[39;49m\u001b[43mcaptured_inputs\u001b[49m\n\u001b[1;32m    141\u001b[0m \u001b[43m\u001b[49m\u001b[43m)\u001b[49m\n",
      "File \u001b[0;32m/opt/homebrew/lib/python3.11/site-packages/tensorflow/python/eager/polymorphic_function/concrete_function.py:1323\u001b[0m, in \u001b[0;36mConcreteFunction._call_flat\u001b[0;34m(self, tensor_inputs, captured_inputs)\u001b[0m\n\u001b[1;32m   1319\u001b[0m possible_gradient_type \u001b[38;5;241m=\u001b[39m gradients_util\u001b[38;5;241m.\u001b[39mPossibleTapeGradientTypes(args)\n\u001b[1;32m   1320\u001b[0m \u001b[38;5;28;01mif\u001b[39;00m (possible_gradient_type \u001b[38;5;241m==\u001b[39m gradients_util\u001b[38;5;241m.\u001b[39mPOSSIBLE_GRADIENT_TYPES_NONE\n\u001b[1;32m   1321\u001b[0m     \u001b[38;5;129;01mand\u001b[39;00m executing_eagerly):\n\u001b[1;32m   1322\u001b[0m   \u001b[38;5;66;03m# No tape is watching; skip to running the function.\u001b[39;00m\n\u001b[0;32m-> 1323\u001b[0m   \u001b[38;5;28;01mreturn\u001b[39;00m \u001b[38;5;28;43mself\u001b[39;49m\u001b[38;5;241;43m.\u001b[39;49m\u001b[43m_inference_function\u001b[49m\u001b[38;5;241;43m.\u001b[39;49m\u001b[43mcall_preflattened\u001b[49m\u001b[43m(\u001b[49m\u001b[43margs\u001b[49m\u001b[43m)\u001b[49m\n\u001b[1;32m   1324\u001b[0m forward_backward \u001b[38;5;241m=\u001b[39m \u001b[38;5;28mself\u001b[39m\u001b[38;5;241m.\u001b[39m_select_forward_and_backward_functions(\n\u001b[1;32m   1325\u001b[0m     args,\n\u001b[1;32m   1326\u001b[0m     possible_gradient_type,\n\u001b[1;32m   1327\u001b[0m     executing_eagerly)\n\u001b[1;32m   1328\u001b[0m forward_function, args_with_tangents \u001b[38;5;241m=\u001b[39m forward_backward\u001b[38;5;241m.\u001b[39mforward()\n",
      "File \u001b[0;32m/opt/homebrew/lib/python3.11/site-packages/tensorflow/python/eager/polymorphic_function/atomic_function.py:216\u001b[0m, in \u001b[0;36mAtomicFunction.call_preflattened\u001b[0;34m(self, args)\u001b[0m\n\u001b[1;32m    214\u001b[0m \u001b[38;5;28;01mdef\u001b[39;00m \u001b[38;5;21mcall_preflattened\u001b[39m(\u001b[38;5;28mself\u001b[39m, args: Sequence[core\u001b[38;5;241m.\u001b[39mTensor]) \u001b[38;5;241m-\u001b[39m\u001b[38;5;241m>\u001b[39m Any:\n\u001b[1;32m    215\u001b[0m \u001b[38;5;250m  \u001b[39m\u001b[38;5;124;03m\"\"\"Calls with flattened tensor inputs and returns the structured output.\"\"\"\u001b[39;00m\n\u001b[0;32m--> 216\u001b[0m   flat_outputs \u001b[38;5;241m=\u001b[39m \u001b[38;5;28;43mself\u001b[39;49m\u001b[38;5;241;43m.\u001b[39;49m\u001b[43mcall_flat\u001b[49m\u001b[43m(\u001b[49m\u001b[38;5;241;43m*\u001b[39;49m\u001b[43margs\u001b[49m\u001b[43m)\u001b[49m\n\u001b[1;32m    217\u001b[0m   \u001b[38;5;28;01mreturn\u001b[39;00m \u001b[38;5;28mself\u001b[39m\u001b[38;5;241m.\u001b[39mfunction_type\u001b[38;5;241m.\u001b[39mpack_output(flat_outputs)\n",
      "File \u001b[0;32m/opt/homebrew/lib/python3.11/site-packages/tensorflow/python/eager/polymorphic_function/atomic_function.py:251\u001b[0m, in \u001b[0;36mAtomicFunction.call_flat\u001b[0;34m(self, *args)\u001b[0m\n\u001b[1;32m    249\u001b[0m \u001b[38;5;28;01mwith\u001b[39;00m record\u001b[38;5;241m.\u001b[39mstop_recording():\n\u001b[1;32m    250\u001b[0m   \u001b[38;5;28;01mif\u001b[39;00m \u001b[38;5;28mself\u001b[39m\u001b[38;5;241m.\u001b[39m_bound_context\u001b[38;5;241m.\u001b[39mexecuting_eagerly():\n\u001b[0;32m--> 251\u001b[0m     outputs \u001b[38;5;241m=\u001b[39m \u001b[38;5;28;43mself\u001b[39;49m\u001b[38;5;241;43m.\u001b[39;49m\u001b[43m_bound_context\u001b[49m\u001b[38;5;241;43m.\u001b[39;49m\u001b[43mcall_function\u001b[49m\u001b[43m(\u001b[49m\n\u001b[1;32m    252\u001b[0m \u001b[43m        \u001b[49m\u001b[38;5;28;43mself\u001b[39;49m\u001b[38;5;241;43m.\u001b[39;49m\u001b[43mname\u001b[49m\u001b[43m,\u001b[49m\n\u001b[1;32m    253\u001b[0m \u001b[43m        \u001b[49m\u001b[38;5;28;43mlist\u001b[39;49m\u001b[43m(\u001b[49m\u001b[43margs\u001b[49m\u001b[43m)\u001b[49m\u001b[43m,\u001b[49m\n\u001b[1;32m    254\u001b[0m \u001b[43m        \u001b[49m\u001b[38;5;28;43mlen\u001b[39;49m\u001b[43m(\u001b[49m\u001b[38;5;28;43mself\u001b[39;49m\u001b[38;5;241;43m.\u001b[39;49m\u001b[43mfunction_type\u001b[49m\u001b[38;5;241;43m.\u001b[39;49m\u001b[43mflat_outputs\u001b[49m\u001b[43m)\u001b[49m\u001b[43m,\u001b[49m\n\u001b[1;32m    255\u001b[0m \u001b[43m    \u001b[49m\u001b[43m)\u001b[49m\n\u001b[1;32m    256\u001b[0m   \u001b[38;5;28;01melse\u001b[39;00m:\n\u001b[1;32m    257\u001b[0m     outputs \u001b[38;5;241m=\u001b[39m make_call_op_in_graph(\n\u001b[1;32m    258\u001b[0m         \u001b[38;5;28mself\u001b[39m,\n\u001b[1;32m    259\u001b[0m         \u001b[38;5;28mlist\u001b[39m(args),\n\u001b[1;32m    260\u001b[0m         \u001b[38;5;28mself\u001b[39m\u001b[38;5;241m.\u001b[39m_bound_context\u001b[38;5;241m.\u001b[39mfunction_call_options\u001b[38;5;241m.\u001b[39mas_attrs(),\n\u001b[1;32m    261\u001b[0m     )\n",
      "File \u001b[0;32m/opt/homebrew/lib/python3.11/site-packages/tensorflow/python/eager/context.py:1486\u001b[0m, in \u001b[0;36mContext.call_function\u001b[0;34m(self, name, tensor_inputs, num_outputs)\u001b[0m\n\u001b[1;32m   1484\u001b[0m cancellation_context \u001b[38;5;241m=\u001b[39m cancellation\u001b[38;5;241m.\u001b[39mcontext()\n\u001b[1;32m   1485\u001b[0m \u001b[38;5;28;01mif\u001b[39;00m cancellation_context \u001b[38;5;129;01mis\u001b[39;00m \u001b[38;5;28;01mNone\u001b[39;00m:\n\u001b[0;32m-> 1486\u001b[0m   outputs \u001b[38;5;241m=\u001b[39m \u001b[43mexecute\u001b[49m\u001b[38;5;241;43m.\u001b[39;49m\u001b[43mexecute\u001b[49m\u001b[43m(\u001b[49m\n\u001b[1;32m   1487\u001b[0m \u001b[43m      \u001b[49m\u001b[43mname\u001b[49m\u001b[38;5;241;43m.\u001b[39;49m\u001b[43mdecode\u001b[49m\u001b[43m(\u001b[49m\u001b[38;5;124;43m\"\u001b[39;49m\u001b[38;5;124;43mutf-8\u001b[39;49m\u001b[38;5;124;43m\"\u001b[39;49m\u001b[43m)\u001b[49m\u001b[43m,\u001b[49m\n\u001b[1;32m   1488\u001b[0m \u001b[43m      \u001b[49m\u001b[43mnum_outputs\u001b[49m\u001b[38;5;241;43m=\u001b[39;49m\u001b[43mnum_outputs\u001b[49m\u001b[43m,\u001b[49m\n\u001b[1;32m   1489\u001b[0m \u001b[43m      \u001b[49m\u001b[43minputs\u001b[49m\u001b[38;5;241;43m=\u001b[39;49m\u001b[43mtensor_inputs\u001b[49m\u001b[43m,\u001b[49m\n\u001b[1;32m   1490\u001b[0m \u001b[43m      \u001b[49m\u001b[43mattrs\u001b[49m\u001b[38;5;241;43m=\u001b[39;49m\u001b[43mattrs\u001b[49m\u001b[43m,\u001b[49m\n\u001b[1;32m   1491\u001b[0m \u001b[43m      \u001b[49m\u001b[43mctx\u001b[49m\u001b[38;5;241;43m=\u001b[39;49m\u001b[38;5;28;43mself\u001b[39;49m\u001b[43m,\u001b[49m\n\u001b[1;32m   1492\u001b[0m \u001b[43m  \u001b[49m\u001b[43m)\u001b[49m\n\u001b[1;32m   1493\u001b[0m \u001b[38;5;28;01melse\u001b[39;00m:\n\u001b[1;32m   1494\u001b[0m   outputs \u001b[38;5;241m=\u001b[39m execute\u001b[38;5;241m.\u001b[39mexecute_with_cancellation(\n\u001b[1;32m   1495\u001b[0m       name\u001b[38;5;241m.\u001b[39mdecode(\u001b[38;5;124m\"\u001b[39m\u001b[38;5;124mutf-8\u001b[39m\u001b[38;5;124m\"\u001b[39m),\n\u001b[1;32m   1496\u001b[0m       num_outputs\u001b[38;5;241m=\u001b[39mnum_outputs,\n\u001b[0;32m   (...)\u001b[0m\n\u001b[1;32m   1500\u001b[0m       cancellation_manager\u001b[38;5;241m=\u001b[39mcancellation_context,\n\u001b[1;32m   1501\u001b[0m   )\n",
      "File \u001b[0;32m/opt/homebrew/lib/python3.11/site-packages/tensorflow/python/eager/execute.py:53\u001b[0m, in \u001b[0;36mquick_execute\u001b[0;34m(op_name, num_outputs, inputs, attrs, ctx, name)\u001b[0m\n\u001b[1;32m     51\u001b[0m \u001b[38;5;28;01mtry\u001b[39;00m:\n\u001b[1;32m     52\u001b[0m   ctx\u001b[38;5;241m.\u001b[39mensure_initialized()\n\u001b[0;32m---> 53\u001b[0m   tensors \u001b[38;5;241m=\u001b[39m \u001b[43mpywrap_tfe\u001b[49m\u001b[38;5;241;43m.\u001b[39;49m\u001b[43mTFE_Py_Execute\u001b[49m\u001b[43m(\u001b[49m\u001b[43mctx\u001b[49m\u001b[38;5;241;43m.\u001b[39;49m\u001b[43m_handle\u001b[49m\u001b[43m,\u001b[49m\u001b[43m \u001b[49m\u001b[43mdevice_name\u001b[49m\u001b[43m,\u001b[49m\u001b[43m \u001b[49m\u001b[43mop_name\u001b[49m\u001b[43m,\u001b[49m\n\u001b[1;32m     54\u001b[0m \u001b[43m                                      \u001b[49m\u001b[43minputs\u001b[49m\u001b[43m,\u001b[49m\u001b[43m \u001b[49m\u001b[43mattrs\u001b[49m\u001b[43m,\u001b[49m\u001b[43m \u001b[49m\u001b[43mnum_outputs\u001b[49m\u001b[43m)\u001b[49m\n\u001b[1;32m     55\u001b[0m \u001b[38;5;28;01mexcept\u001b[39;00m core\u001b[38;5;241m.\u001b[39m_NotOkStatusException \u001b[38;5;28;01mas\u001b[39;00m e:\n\u001b[1;32m     56\u001b[0m   \u001b[38;5;28;01mif\u001b[39;00m name \u001b[38;5;129;01mis\u001b[39;00m \u001b[38;5;129;01mnot\u001b[39;00m \u001b[38;5;28;01mNone\u001b[39;00m:\n",
      "\u001b[0;31mKeyboardInterrupt\u001b[0m: "
     ]
    }
   ],
   "source": [
    "import numpy as np\n",
    "import pandas as pd\n",
    "import matplotlib.pyplot as plt\n",
    "import seaborn as sns\n",
    "from keras.preprocessing.image import ImageDataGenerator\n",
    "from keras.models import Sequential\n",
    "from keras.layers import Dropout, Flatten, Dense\n",
    "from keras import applications\n",
    "from sklearn.metrics import pairwise_distances\n",
    "import requests\n",
    "from PIL import Image\n",
    "import pickle\n",
    "from datetime import datetime\n",
    "from PIL import ImageFile\n",
    "from IPython.display import display, Image\n",
    "\n",
    "# fashion_df 열 이름 확인\n",
    "print(fashion_df.columns)\n",
    "\n",
    "\n",
    "# '성별'에 따른 카운트 플롯\n",
    "plot = sns.countplot(fashion_df[\"성별\"])\n",
    "plt.title(\"Distribution of articles gender-wise\")\n",
    "plt.xlabel(\"Gender type\")\n",
    "plt.ylabel(\"Number of products\")\n",
    "plot.set_xticklabels(plot.get_xticklabels())\n",
    "plt.show()\n",
    "\n",
    "# '성별' 값 카운트\n",
    "print(fashion_df[\"성별\"].value_counts())\n",
    "\n",
    "# 각 카테고리 및 성별에 대한 데이터 프레임 생성\n",
    "business_men = fashion_df[(fashion_df[\"카테고리\"] == \"비즈니스캐주얼\") & (fashion_df['성별'] == 1)]\n",
    "business_women = fashion_df[(fashion_df[\"카테고리\"] == \"비즈니스캐주얼\") & (fashion_df['성별'] == 0)]\n",
    "dandy_men = fashion_df[fashion_df[\"카테고리\"] == \"댄디\"]\n",
    "romantic_women = fashion_df[fashion_df[\"카테고리\"] == \"로맨틱\"]\n",
    "street_men = fashion_df[fashion_df[\"카테고리\"] == \"스트릿\"]\n",
    "casual_women = fashion_df[fashion_df[\"카테고리\"] == \"캐주얼\"]\n",
    "\n",
    "# 이미지 데이터 디렉토리 설정\n",
    "img_width, img_height = 224, 224\n",
    "train_data_dir = \"./images/\"\n",
    "\n",
    "nb_train_samples = 13879\n",
    "epochs = 50\n",
    "batch_size = 128\n",
    "\n",
    "# 함수 수정\n",
    "def extract_features_and_save_single_dir(train_data_dir, num_samples, save_prefix):\n",
    "    Itemcodes = []\n",
    "    datagen = ImageDataGenerator(rescale=1. / 255)\n",
    "    model = applications.ResNet50(include_top=False, weights='imagenet')\n",
    "    generator = datagen.flow_from_directory(\n",
    "        train_data_dir,\n",
    "        target_size=(img_width, img_height),\n",
    "        batch_size=batch_size,\n",
    "        class_mode=None,\n",
    "        shuffle=False\n",
    "    )\n",
    "    for i in generator.filenames:\n",
    "        Itemcodes.append(i[:i.find(\".\")])\n",
    "    extracted_features = model.predict_generator(generator, num_samples // batch_size)\n",
    "    extracted_features = extracted_features.reshape((num_samples, 100352))\n",
    "\n",
    "    np.save(open(f'./model/{save_prefix}_ResNet_features.npy', 'wb'), extracted_features)\n",
    "    np.save(open(f'./model/{save_prefix}_ResNet_feature_product_ids.npy', 'wb'), np.array(Itemcodes))\n",
    "\n",
    "# 함수 호출\n",
    "extract_features_and_save_single_dir(train_data_dir, nb_train_samples, 'All')\n",
    "\n",
    "# get_similar_products_cnn 함수도 수정\n",
    "def get_similar_products_cnn(product_id, num_results, fashion_df, extracted_features_dict, product_ids_dict):\n",
    "    gender_mapping = {'man': 'MAN', 'woman': 'WOMAN'}  # 성별에 대한 매핑\n",
    "    category_mapping = {'business': '비즈니스캐주얼', 'dandy': '댄디', 'romantic': '로맨틱', 'street': '스트릿', 'casual': '캐주얼'}\n",
    "\n",
    "    gender = fashion_df[fashion_df['id'] == int(product_id)]['성별'].values[0]\n",
    "    category = fashion_df[fashion_df['id'] == int(product_id)]['카테고리'].values[0]\n",
    "\n",
    "    gender_str = gender_mapping.get(gender, None)\n",
    "    category_str = category_mapping.get(category, None)\n",
    "\n",
    "    if gender_str is None or category_str is None:\n",
    "        print(\"Invalid gender or category.\")\n",
    "        return\n",
    "\n",
    "    key = f\"{gender_str}_{category_str}\"\n",
    "    extracted_features = extracted_features_dict.get(key, None)\n",
    "    Productids = product_ids_dict.get(key, None)\n",
    "\n",
    "    if extracted_features is None or Productids is None:\n",
    "        print(\"Invalid gender or category.\")\n",
    "        return\n",
    "\n",
    "    Productids = list(Productids)\n",
    "    doc_id = Productids.index(product_id)\n",
    "    pairwise_dist = pairwise_distances(extracted_features, extracted_features[doc_id].reshape(1, -1))\n",
    "    indices = np.argsort(pairwise_dist.flatten())[:num_results]\n",
    "    pdists = np.sort(pairwise_dist.flatten())[:num_results]\n",
    "    print(\"=\" * 20, \"Input product image\", \"=\" * 20)\n",
    "    ip_row = fashion_df[['매칭이미지주소', '브랜드이름', '제품명', '가격']].loc[fashion_df['id'] == int(Productids[indices[0]])]\n",
    "    \n",
    "    # Display input product information\n",
    "    for indx, row in ip_row.iterrows():\n",
    "        display(Image(url=row['매칭이미지주소'], width=224, height=224, embed=True))\n",
    "        print(f\"Brand: {row['브랜드이름']}\")\n",
    "        print(f\"Product Name: {row['제품명']}\")\n",
    "        print(f\"Price: {row['가격']}\")\n",
    "    \n",
    "    print(\"\\n\", \"=\" * 20, \"Recommended products\", \"=\" * 20)\n",
    "    \n",
    "    # Display recommended products\n",
    "    for i in range(1, len(indices)):\n",
    "        rows = fashion_df[['매칭이미지주소', '브랜드이름', '제품명', '가격']].loc[fashion_df['id'] == int(Productids[indices[i]])]\n",
    "        for indx, row in rows.iterrows():\n",
    "            display(Image(url=row['매칭이미지주소'], width=224, height=224, embed=True))\n",
    "            print(f\"Brand: {row['브랜드이름']}\")\n",
    "            print(f\"Product Name: {row['제품명']}\")\n",
    "            print(f\"Price: {row['가격']}\")\n",
    "            print('Euclidean Distance from input image:', pdists[i])\n",
    "\n",
    "# 함수 호출\n",
    "get_similar_products_cnn('3627500', 5, fashion_df, extracted_features_dict, product_ids_dict)\n"
   ]
  },
  {
   "cell_type": "code",
   "execution_count": null,
   "id": "d8457550",
   "metadata": {},
   "outputs": [],
   "source": []
  },
  {
   "cell_type": "code",
   "execution_count": null,
   "id": "78f33921",
   "metadata": {},
   "outputs": [],
   "source": []
  },
  {
   "cell_type": "code",
   "execution_count": null,
   "id": "3033e8d9",
   "metadata": {},
   "outputs": [],
   "source": []
  },
  {
   "cell_type": "code",
   "execution_count": null,
   "id": "1541312b",
   "metadata": {},
   "outputs": [],
   "source": []
  },
  {
   "cell_type": "code",
   "execution_count": null,
   "id": "709b2545",
   "metadata": {},
   "outputs": [],
   "source": []
  },
  {
   "cell_type": "code",
   "execution_count": null,
   "id": "827dee36",
   "metadata": {},
   "outputs": [],
   "source": []
  },
  {
   "cell_type": "code",
   "execution_count": null,
   "id": "7950360f",
   "metadata": {},
   "outputs": [],
   "source": []
  },
  {
   "cell_type": "code",
   "execution_count": null,
   "id": "2ee09989",
   "metadata": {},
   "outputs": [],
   "source": []
  },
  {
   "cell_type": "code",
   "execution_count": null,
   "id": "f9467c40",
   "metadata": {},
   "outputs": [],
   "source": []
  },
  {
   "cell_type": "code",
   "execution_count": null,
   "id": "a8e2285d",
   "metadata": {},
   "outputs": [],
   "source": []
  },
  {
   "cell_type": "code",
   "execution_count": null,
   "id": "5290e6cc",
   "metadata": {},
   "outputs": [],
   "source": []
  },
  {
   "cell_type": "code",
   "execution_count": null,
   "id": "9f15bb6a",
   "metadata": {},
   "outputs": [],
   "source": []
  },
  {
   "cell_type": "code",
   "execution_count": null,
   "id": "901a43c7",
   "metadata": {},
   "outputs": [],
   "source": []
  },
  {
   "cell_type": "code",
   "execution_count": null,
   "id": "7d1f6758",
   "metadata": {},
   "outputs": [],
   "source": []
  },
  {
   "cell_type": "code",
   "execution_count": null,
   "id": "3618d0d8",
   "metadata": {},
   "outputs": [],
   "source": []
  },
  {
   "cell_type": "code",
   "execution_count": null,
   "id": "4d8882f6",
   "metadata": {},
   "outputs": [],
   "source": []
  },
  {
   "cell_type": "code",
   "execution_count": null,
   "id": "d81895c0",
   "metadata": {},
   "outputs": [],
   "source": []
  },
  {
   "cell_type": "code",
   "execution_count": null,
   "id": "e5e191b1",
   "metadata": {},
   "outputs": [],
   "source": []
  },
  {
   "cell_type": "code",
   "execution_count": null,
   "id": "5680b40a",
   "metadata": {},
   "outputs": [],
   "source": []
  }
 ],
 "metadata": {
  "kernelspec": {
   "display_name": "Python 3 (ipykernel)",
   "language": "python",
   "name": "python3"
  },
  "language_info": {
   "codemirror_mode": {
    "name": "ipython",
    "version": 3
   },
   "file_extension": ".py",
   "mimetype": "text/x-python",
   "name": "python",
   "nbconvert_exporter": "python",
   "pygments_lexer": "ipython3",
   "version": "3.11.5"
  },
  "toc": {
   "base_numbering": 1,
   "nav_menu": {},
   "number_sections": true,
   "sideBar": true,
   "skip_h1_title": false,
   "title_cell": "Table of Contents",
   "title_sidebar": "Contents",
   "toc_cell": false,
   "toc_position": {},
   "toc_section_display": true,
   "toc_window_display": false
  }
 },
 "nbformat": 4,
 "nbformat_minor": 5
}
